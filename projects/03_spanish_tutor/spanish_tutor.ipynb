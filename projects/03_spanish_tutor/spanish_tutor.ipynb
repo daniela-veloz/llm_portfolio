{
 "cells": [
  {
   "metadata": {},
   "cell_type": "markdown",
   "source": "# 🎓 Spanish Language Tutor\n\nAn interactive AI-powered Spanish language learning companion that combines conversational chat with natural speech synthesis for immersive language learning.\n\n## 📋 Overview\n\nThis project creates an engaging Spanish tutoring experience using advanced AI technology. The system provides personalized Spanish lessons through interactive conversations, helping English speakers learn Spanish naturally. Each response includes both text and audio feedback using OpenAI's text-to-speech capabilities, creating an immersive learning environment that mimics real conversations with a native Spanish tutor.\n\n## ✨ Key Features\n\n- **🤖 AI-Powered Tutoring**: Uses OpenAI's `gpt-4o-mini` for intelligent, contextual Spanish language instruction\n- **🔊 Text-to-Speech Integration**: Natural voice synthesis using OpenAI's TTS API with high-quality voice options\n- **💬 Interactive Chat Interface**: Gradio-powered web interface for seamless conversation flow\n- **📚 Conversation History**: Maintains context across interactions for personalized learning progression\n- **🎯 English-Focused Explanations**: Provides explanations in English while teaching Spanish vocabulary and grammar\n- **🌐 Web-Based Interface**: Accessible through any web browser for convenient learning sessions\n\n## 🛠️ Technology Stack\n\n| Component | Technology | Purpose |\n|-----------|------------|---------|\n| **AI Model** | OpenAI GPT-4o-mini | Language instruction and conversation |\n| **Text-to-Speech** | OpenAI TTS API | Natural voice synthesis |\n| **Web Interface** | Gradio | Interactive chat interface |\n| **Audio Processing** | PyDub, SimpleAudio | Audio file handling and playback |\n| **Language** | Python | Core development |\n| **Environment** | Jupyter Notebook | Development and demonstration |\n\n## 🚀 Installation Requirements\n\n### Python Dependencies\n```bash\npip install openai gradio python-dotenv pydub simpleaudio\n```\n\n### Environment Variables\n- `OPENAI_API_KEY` - Required for both chat and TTS functionality\n\n### System Requirements\n- Audio output capability for speech synthesis\n- Web browser for Gradio interface\n\n## 🎯 Project Scope\n\n- ✅ **Interactive Conversations**: Real-time Spanish tutoring through chat\n- ✅ **Audio Responses**: Every response includes natural speech synthesis\n- ✅ **Context Awareness**: Maintains conversation history for personalized learning\n- ✅ **Beginner-Friendly**: Explanations provided in English for accessibility\n- ✅ **Web Interface**: Easy-to-use browser-based chat interface\n- ❌ **Visual Content**: Focuses on conversational learning, not visual aids\n\n## 🏆 Skill Level\n\n**Beginner to Intermediate** - Perfect for developers learning:\n- OpenAI API integration (Chat & TTS)\n- Interactive web applications with Gradio\n- Audio processing and playback\n- Conversational AI system design\n- Language learning application development\n\n## 🚀 Use Cases\n\n- **📖 Spanish Learning**: Interactive Spanish language instruction\n- **🗣️ Pronunciation Practice**: Hear correct Spanish pronunciation\n- **💬 Conversation Practice**: Engage in Spanish conversations with AI tutor\n- **📝 Grammar Instruction**: Learn Spanish grammar through examples\n- **🎯 Vocabulary Building**: Expand Spanish vocabulary through context\n- **🏫 Educational Supplement**: Support traditional Spanish language courses\n\n## 💡 Benefits\n\n- **🎧 Immersive Learning**: Audio responses create natural conversation experience\n- **⏰ Available 24/7**: Practice Spanish anytime without scheduling constraints\n- **🎯 Personalized Instruction**: AI adapts to individual learning pace and style\n- **🔄 Immediate Feedback**: Instant responses and corrections\n- **📱 Accessible**: Web-based interface works on any device with a browser\n- **🎨 Engaging**: Interactive chat format makes learning enjoyable\n\n## 🔧 Core Components\n\n### `LLMClient` Class\nHandles OpenAI API integration for both text generation and speech synthesis with support for conversation history.\n\n### `TextToSpeech` Class  \nManages text-to-speech conversion with audio file processing, playback, and cleanup functionality.\n\n### `SpanishTutor` Class\nMain orchestration class that combines language model responses with audio output for comprehensive tutoring experience.\n\n## 🎪 Interactive Features\n\n- **Chat History**: Maintains conversation context for natural dialogue flow\n- **Audio Playback**: Automatic speech synthesis for every tutor response\n- **Web Interface**: Clean, user-friendly Gradio chat interface\n- **Real-time Responses**: Immediate feedback and instruction\n\n## 📚 Learning Approach\n\nThe tutor provides:\n- Spanish translations and explanations\n- Grammar tips and corrections  \n- Cultural context and usage examples\n- Pronunciation guidance through audio\n- Progressive difficulty based on conversation\n\n---\n\n*This project demonstrates the integration of conversational AI, text-to-speech technology, and web interfaces to create an engaging language learning experience.*",
   "id": "3167eecc965d5123"
  },
  {
   "metadata": {
    "ExecuteTime": {
     "end_time": "2025-08-12T04:51:18.817037Z",
     "start_time": "2025-08-12T04:51:18.679343Z"
    }
   },
   "cell_type": "code",
   "source": "!uv pip install simpleaudio",
   "id": "d85ec02e0f83170f",
   "outputs": [
    {
     "name": "stdout",
     "output_type": "stream",
     "text": [
      "\u001B[2mUsing Python 3.12.11 environment at: /Users/daniela_veloz/Workspace/llm_portfolio/.venv\u001B[0m\r\n",
      "\u001B[2mAudited \u001B[1m1 package\u001B[0m \u001B[2min 2ms\u001B[0m\u001B[0m\r\n"
     ]
    }
   ],
   "execution_count": 20
  },
  {
   "metadata": {
    "ExecuteTime": {
     "end_time": "2025-08-12T04:51:18.826549Z",
     "start_time": "2025-08-12T04:51:18.824742Z"
    }
   },
   "cell_type": "code",
   "source": [
    "import os\n",
    "import gradio as gr"
   ],
   "id": "78eacc569b897851",
   "outputs": [],
   "execution_count": 21
  },
  {
   "metadata": {},
   "cell_type": "markdown",
   "source": "## LLM Client",
   "id": "9cf65c922152fa9b"
  },
  {
   "metadata": {
    "ExecuteTime": {
     "end_time": "2025-08-12T04:51:18.836911Z",
     "start_time": "2025-08-12T04:51:18.833606Z"
    }
   },
   "cell_type": "code",
   "source": [
    "from openai import OpenAI\n",
    "\n",
    "class LLMClient:\n",
    "    \"\"\"\n",
    "    A client for interacting with language models through OpenAI's API.\n",
    "    Supports both OpenAI's hosted models and local models via custom base URLs.\n",
    "    \"\"\"\n",
    "    \n",
    "    def __init__(self, model, base_url=None):\n",
    "        \"\"\"\n",
    "        Initialize the LLM client.\n",
    "        \n",
    "        Args:\n",
    "            model (str): The model name to use (e.g., 'gpt-4o-mini', 'gpt-3.5-turbo')\n",
    "            base_url (str, optional): Custom base URL for local models. If provided,\n",
    "                                     the model parameter is used as the API key.\n",
    "        \"\"\"\n",
    "        self.model = model\n",
    "        if base_url:\n",
    "            self.openai = OpenAI(base_url=base_url, api_key=model)\n",
    "        else:\n",
    "            self.openai = OpenAI()\n",
    "\n",
    "    def generate_text(self, user_prompt, system_prompt=\"\", history=None) -> str:\n",
    "        \"\"\"\n",
    "        Generate text response using the configured language model.\n",
    "        \n",
    "        Args:\n",
    "            user_prompt (str): The user's input message\n",
    "            system_prompt (str, optional): System instructions to guide the model's behavior\n",
    "            history (List[Dict[str, str]], optional): Conversation history in OpenAI format.\n",
    "                                                     Each dict should have 'role' and 'content' keys.\n",
    "        \n",
    "        Returns:\n",
    "            str: The model's text response\n",
    "        \"\"\"\n",
    "        if history is None:\n",
    "            history = []\n",
    "        \n",
    "        messages = [{\"role\": \"system\", \"content\": system_prompt}] + history + [{\"role\": \"user\", \"content\": user_prompt}]\n",
    "        \n",
    "        response = self.openai.chat.completions.create(\n",
    "            model=self.model,\n",
    "            messages=messages,\n",
    "        )\n",
    "        return response.choices[0].message.content\n",
    "\n",
    "    def generate_speech(self, voice, message):\n",
    "        \"\"\"\n",
    "        Generate speech audio from text using OpenAI's TTS API.\n",
    "        \n",
    "        Args:\n",
    "            voice (str): The voice to use for speech synthesis.\n",
    "                        Options: alloy, echo, fable, onyx, nova, shimmer\n",
    "            message (str): The text to convert to speech\n",
    "            \n",
    "        Returns:\n",
    "            HttpxBinaryResponseContent: Raw audio content in MP3 format\n",
    "            \n",
    "        Raises:\n",
    "            OpenAIError: If the API request fails\n",
    "\n",
    "        \"\"\"\n",
    "        response = self.openai.audio.speech.create(\n",
    "            model=self.model,\n",
    "            voice=voice,\n",
    "            input=message\n",
    "        )\n",
    "        return response"
   ],
   "id": "98bc2004ceb3faa4",
   "outputs": [],
   "execution_count": 22
  },
  {
   "metadata": {},
   "cell_type": "markdown",
   "source": "## Load OpenAI keys",
   "id": "2d7ff61bb51d384b"
  },
  {
   "metadata": {
    "ExecuteTime": {
     "end_time": "2025-08-12T04:51:18.862444Z",
     "start_time": "2025-08-12T04:51:18.843027Z"
    }
   },
   "cell_type": "code",
   "source": [
    "# Initialization\n",
    "from dotenv import load_dotenv\n",
    "\n",
    "load_dotenv(override=True)\n",
    "\n",
    "openai_api_key = os.getenv('OPENAI_API_KEY')\n",
    "if openai_api_key:\n",
    "    print(f\"OpenAI API Key exists and begins {openai_api_key[:8]}\")\n",
    "else:\n",
    "    print(\"OpenAI API Key not set\")\n",
    "\n",
    "MODEL = \"gpt-4o-mini\"\n",
    "openai = OpenAI()"
   ],
   "id": "d750b734769d7c2c",
   "outputs": [
    {
     "name": "stdout",
     "output_type": "stream",
     "text": [
      "OpenAI API Key exists and begins sk-proj-\n"
     ]
    }
   ],
   "execution_count": 23
  },
  {
   "metadata": {},
   "cell_type": "markdown",
   "source": "## TextToSpeech module",
   "id": "8120d8d54ac6fe60"
  },
  {
   "metadata": {
    "ExecuteTime": {
     "end_time": "2025-08-12T04:51:18.872599Z",
     "start_time": "2025-08-12T04:51:18.866502Z"
    }
   },
   "cell_type": "code",
   "source": [
    "from pydub import AudioSegment\n",
    "from io import BytesIO\n",
    "import tempfile\n",
    "import os\n",
    "import simpleaudio as sa\n",
    "\n",
    "class TextToSpeech:\n",
    "    \"\"\"\n",
    "    A text-to-speech client that converts text to audio using OpenAI's TTS API\n",
    "    and plays it through the system's audio device.\n",
    "    \"\"\"\n",
    "    \n",
    "    def __init__(self, model=\"tts-1\", voice=\"onyx\"):\n",
    "        \"\"\"\n",
    "        Initialize the TextToSpeech client.\n",
    "        \n",
    "        Args:\n",
    "            model (str, optional): The TTS model to use. Defaults to \"tts-1\"\n",
    "            voice (str, optional): The voice to use for speech synthesis. \n",
    "                                  Options: alloy, echo, fable, onyx, nova, shimmer\n",
    "        \"\"\"\n",
    "        # Create a dedicated OpenAI client for TTS (always uses official OpenAI API)\n",
    "        self.openai = OpenAI()\n",
    "        self.model = model\n",
    "        self.voice = voice\n",
    "    \n",
    "    def speak(self, message):\n",
    "        \"\"\"\n",
    "        Convert text to speech and play the audio immediately.\n",
    "        \n",
    "        This method:\n",
    "        1. Sends text to OpenAI's TTS API\n",
    "        2. Converts the MP3 response to WAV format\n",
    "        3. Creates a temporary audio file\n",
    "        4. Plays the audio through the system speakers\n",
    "        5. Cleans up temporary files\n",
    "        \n",
    "        Args:\n",
    "            message (str): The text to convert to speech\n",
    "            \n",
    "        Raises:\n",
    "            Exception: If there are issues with audio device or file operations\n",
    "        \"\"\"\n",
    "        temp_file_name = None\n",
    "        try:\n",
    "            response = self.openai.audio.speech.create(\n",
    "                model=self.model,\n",
    "                voice=self.voice,\n",
    "                input=message\n",
    "            )\n",
    "\n",
    "            audio_stream = BytesIO(response.content)\n",
    "            audio = AudioSegment.from_file(audio_stream, format=\"mp3\")\n",
    "\n",
    "            # Create a temporary file in a folder where you have write permissions\n",
    "            with tempfile.NamedTemporaryFile(suffix=\".wav\", delete=False, dir=os.path.expanduser(\".\")) as temp_audio_file:\n",
    "                temp_file_name = temp_audio_file.name\n",
    "                audio.export(temp_file_name, format=\"wav\")\n",
    "\n",
    "            # Load and play audio using simpleaudio\n",
    "            wave_obj = sa.WaveObject.from_wave_file(temp_file_name)\n",
    "            play_obj = wave_obj.play()\n",
    "            play_obj.wait_done()  # Wait for playback to finish\n",
    "            \n",
    "        except Exception as e:\n",
    "            print(f\"Audio device error: {e}\")\n",
    "        finally:\n",
    "            # Clean up the temporary file\n",
    "            if temp_file_name and os.path.exists(temp_file_name):\n",
    "                os.remove(temp_file_name)\n",
    "\n",
    "def talker(message):\n",
    "    \"\"\"\n",
    "    Backward compatibility function for legacy code.\n",
    "    \n",
    "    Args:\n",
    "        message (str): The text to convert to speech\n",
    "    \"\"\"\n",
    "    tts = TextToSpeech()\n",
    "    tts.speak(message)"
   ],
   "id": "b750d35d42a1a07f",
   "outputs": [],
   "execution_count": 24
  },
  {
   "metadata": {},
   "cell_type": "markdown",
   "source": "## Spanish Tutor Module",
   "id": "99c97e09ce8dfc72"
  },
  {
   "metadata": {
    "ExecuteTime": {
     "end_time": "2025-08-12T04:51:18.882018Z",
     "start_time": "2025-08-12T04:51:18.879636Z"
    }
   },
   "cell_type": "code",
   "source": "class SpanishTutor:\n    \"\"\"\n    An AI-powered Spanish language tutor that provides interactive Spanish lessons\n    through conversational chat with audio feedback.\n    \n    This class combines OpenAI's language model capabilities with text-to-speech\n    functionality to create an immersive Spanish learning experience. The tutor\n    provides explanations in English while teaching Spanish vocabulary, grammar,\n    and conversation skills.\n    \n    Attributes:\n        system_message (str): System prompt that defines the tutor's behavior and\n                             instructions for providing Spanish language instruction\n        llm_client (LLMClient): Client for generating text responses using language models\n        tts_client (TextToSpeech): Client for converting text responses to spoken audio\n    \"\"\"\n\n    system_message = \"\"\"\n    You are a language tutor and help students whose main language is english to learn spanish. As english is the main language of the students you need provide your answers in english and use spanish as needed.\n    \"\"\"\n\n    def __init__(self, model=\"gpt-4o-mini\"):\n        \"\"\"\n        Initialize the Spanish tutor with specified language model.\n        \n        Args:\n            model (str, optional): The language model to use for generating responses.\n                                  Defaults to \"gpt-4o-mini\"\n        \"\"\"\n        self.llm_client = LLMClient(model=model)\n        self.tts_client = TextToSpeech()\n    \n    def chat(self, message, history):\n        \"\"\"\n        Process a chat message and return a tutoring response with audio feedback.\n        \n        This method handles the main interaction flow:\n        1. Sends the user's message and conversation history to the language model\n        2. Generates an appropriate Spanish tutoring response\n        3. Converts the response to audio and plays it\n        4. Returns the text response for display\n        \n        Args:\n            message (str): The user's input message or question about Spanish\n            history (List[Dict[str, str]]): Conversation history in OpenAI format.\n                                           Each dict contains 'role' and 'content' keys\n        \n        Returns:\n            str: The tutor's response containing Spanish instruction, translations,\n                 explanations, or corrections\n        \"\"\"\n        reply = self.llm_client.generate_text(\n            user_prompt=message,\n            system_prompt=self.system_message,\n            history=history\n        )\n        \n        # Play the response as audio\n        self.tts_client.speak(reply)\n        \n        return reply",
   "id": "86733e2dbbb0dc9",
   "outputs": [],
   "execution_count": 25
  },
  {
   "metadata": {},
   "cell_type": "markdown",
   "source": "## Testing the Spanish Tutor with gpt-4o-mini",
   "id": "896fe31f09799a6d"
  },
  {
   "metadata": {
    "ExecuteTime": {
     "end_time": "2025-08-12T04:51:18.918921Z",
     "start_time": "2025-08-12T04:51:18.887993Z"
    }
   },
   "cell_type": "code",
   "source": [
    "MODEL = \"gpt-4o-mini\"\n",
    "\n",
    "# Create Spanish tutor instance\n",
    "spanish_tutor = SpanishTutor(MODEL)\n",
    "\n",
    "def chat(message, history):\n",
    "    \"\"\"Backward compatibility function for Gradio interface\"\"\"\n",
    "    return spanish_tutor.chat(message, history)"
   ],
   "id": "fe6eed7352d1920d",
   "outputs": [],
   "execution_count": 26
  },
  {
   "metadata": {
    "jupyter": {
     "is_executing": true
    },
    "ExecuteTime": {
     "start_time": "2025-08-12T04:51:18.925033Z"
    }
   },
   "cell_type": "code",
   "source": "chat(\"\"\"how could I say \"I'm hungry\"\"\", [])",
   "id": "f09857f0de9546b8",
   "outputs": [],
   "execution_count": null
  },
  {
   "metadata": {},
   "cell_type": "markdown",
   "source": "## Test Spanish Tutor with gradio interface",
   "id": "460157a91da7c23e"
  },
  {
   "metadata": {},
   "cell_type": "code",
   "source": "gr.ChatInterface(fn=chat, type=\"messages\").launch()",
   "id": "5be656e37efe9b03",
   "outputs": [],
   "execution_count": null
  }
 ],
 "metadata": {
  "kernelspec": {
   "display_name": "Python 3",
   "language": "python",
   "name": "python3"
  },
  "language_info": {
   "codemirror_mode": {
    "name": "ipython",
    "version": 2
   },
   "file_extension": ".py",
   "mimetype": "text/x-python",
   "name": "python",
   "nbconvert_exporter": "python",
   "pygments_lexer": "ipython2",
   "version": "2.7.6"
  }
 },
 "nbformat": 4,
 "nbformat_minor": 5
}
