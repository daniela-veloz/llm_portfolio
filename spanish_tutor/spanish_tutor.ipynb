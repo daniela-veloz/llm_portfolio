{
 "cells": [
  {
   "metadata": {},
   "cell_type": "markdown",
   "source": [
    "# Spanish Language Tutor\n",
    "The purpose of this app is to be a spanish tutor companion to help english spoken students learn spanish."
   ],
   "id": "3167eecc965d5123"
  },
  {
   "metadata": {
    "ExecuteTime": {
     "end_time": "2025-08-03T02:10:47.344133Z",
     "start_time": "2025-08-03T02:10:46.161013Z"
    }
   },
   "cell_type": "code",
   "source": [
    "import os\n",
    "from dotenv import load_dotenv\n",
    "from openai import OpenAI\n",
    "import gradio as gr"
   ],
   "id": "78eacc569b897851",
   "outputs": [],
   "execution_count": 1
  },
  {
   "metadata": {
    "ExecuteTime": {
     "end_time": "2025-08-03T02:10:48.385046Z",
     "start_time": "2025-08-03T02:10:48.366981Z"
    }
   },
   "cell_type": "code",
   "source": [
    "# Initialization\n",
    "\n",
    "load_dotenv(override=True)\n",
    "\n",
    "openai_api_key = os.getenv('OPENAI_API_KEY')\n",
    "if openai_api_key:\n",
    "    print(f\"OpenAI API Key exists and begins {openai_api_key[:8]}\")\n",
    "else:\n",
    "    print(\"OpenAI API Key not set\")\n",
    "\n",
    "MODEL = \"gpt-4o-mini\"\n",
    "openai = OpenAI()"
   ],
   "id": "d750b734769d7c2c",
   "outputs": [
    {
     "name": "stdout",
     "output_type": "stream",
     "text": [
      "OpenAI API Key exists and begins sk-proj-\n"
     ]
    }
   ],
   "execution_count": 2
  },
  {
   "metadata": {
    "ExecuteTime": {
     "end_time": "2025-08-03T02:10:50.920095Z",
     "start_time": "2025-08-03T02:10:50.918452Z"
    }
   },
   "cell_type": "code",
   "source": [
    "system_message = \"\"\"\n",
    "    You are a language tutor and help students whose main language is english to learn spanish. As english is the main language of the students you need provide your answers in english and use spanish as needed.\n",
    "\"\"\""
   ],
   "id": "da3bb8a0a34c7f83",
   "outputs": [],
   "execution_count": 3
  },
  {
   "metadata": {
    "ExecuteTime": {
     "end_time": "2025-08-03T02:10:53.929159Z",
     "start_time": "2025-08-03T02:10:53.347756Z"
    }
   },
   "cell_type": "code",
   "source": "!pip install simpleaudio",
   "id": "d85ec02e0f83170f",
   "outputs": [
    {
     "name": "stdout",
     "output_type": "stream",
     "text": [
      "Requirement already satisfied: simpleaudio in /Users/daniela_veloz/Workspace/llm_portfolio/.venv/lib/python3.12/site-packages (1.0.4)\r\n",
      "\r\n",
      "\u001B[1m[\u001B[0m\u001B[34;49mnotice\u001B[0m\u001B[1;39;49m]\u001B[0m\u001B[39;49m A new release of pip is available: \u001B[0m\u001B[31;49m24.3.1\u001B[0m\u001B[39;49m -> \u001B[0m\u001B[32;49m25.2\u001B[0m\r\n",
      "\u001B[1m[\u001B[0m\u001B[34;49mnotice\u001B[0m\u001B[1;39;49m]\u001B[0m\u001B[39;49m To update, run: \u001B[0m\u001B[32;49mpip install --upgrade pip\u001B[0m\r\n"
     ]
    }
   ],
   "execution_count": 4
  },
  {
   "metadata": {
    "ExecuteTime": {
     "end_time": "2025-08-03T02:10:56.303261Z",
     "start_time": "2025-08-03T02:10:56.293664Z"
    }
   },
   "cell_type": "code",
   "source": [
    "import time\n",
    "from pydub import AudioSegment\n",
    "from io import BytesIO\n",
    "import tempfile\n",
    "import os\n",
    "import simpleaudio as sa\n",
    "\n",
    "def talker(message):\n",
    "    response = openai.audio.speech.create(\n",
    "        model=\"tts-1\",\n",
    "        voice=\"onyx\",  # Also, try replacing onyx with alloy\n",
    "        input=message\n",
    "    )\n",
    "\n",
    "    audio_stream = BytesIO(response.content)\n",
    "    audio = AudioSegment.from_file(audio_stream, format=\"mp3\")\n",
    "\n",
    "    # Create a temporary file in a folder where you have write permissions\n",
    "    with tempfile.NamedTemporaryFile(suffix=\".wav\", delete=False, dir=os.path.expanduser(\"~/Documents\")) as temp_audio_file:\n",
    "        temp_file_name = temp_audio_file.name\n",
    "        audio.export(temp_file_name, format=\"wav\")\n",
    "\n",
    "    # Load and play audio using simpleaudio\n",
    "    try:\n",
    "        wave_obj = sa.WaveObject.from_wave_file(temp_file_name)\n",
    "        print(\"start talking\")\n",
    "        wave_obj.play()\n",
    "        audio_duration = len(audio) / 1000.0  # pydub duration in seconds\n",
    "        time.sleep(audio_duration + 0.5)  # Add small buffer\n",
    "        print(\"end talking\")\n",
    "        # Clean up the temporary file afterward\n",
    "        os.remove(temp_file_name)\n",
    "    except Exception as e:\n",
    "        print(f\"Audio device error: {e}\")"
   ],
   "id": "b750d35d42a1a07f",
   "outputs": [],
   "execution_count": 5
  },
  {
   "metadata": {
    "ExecuteTime": {
     "end_time": "2025-08-03T02:10:59.721409Z",
     "start_time": "2025-08-03T02:10:59.718641Z"
    }
   },
   "cell_type": "code",
   "source": [
    "def chat(message, history):\n",
    "    messages = [{\"role\": \"system\", \"content\": system_message}] + history + [{\"role\": \"user\", \"content\": message}]\n",
    "    response = openai.chat.completions.create(model=MODEL, messages=messages)\n",
    "    reply = response.choices[0].message.content\n",
    "    talker(reply)\n",
    "    return response.choices[0].message.content\n",
    "\n"
   ],
   "id": "86733e2dbbb0dc9",
   "outputs": [],
   "execution_count": 6
  },
  {
   "metadata": {
    "jupyter": {
     "is_executing": true
    },
    "ExecuteTime": {
     "end_time": "2025-08-03T02:12:05.358871Z",
     "start_time": "2025-08-03T02:11:02.010313Z"
    }
   },
   "cell_type": "code",
   "source": "chat(\"\"\"how do say \"tengo hambre\"\"\", [])",
   "id": "f09857f0de9546b8",
   "outputs": [
    {
     "name": "stdout",
     "output_type": "stream",
     "text": [
      "start talking\n"
     ]
    }
   ],
   "execution_count": null
  },
  {
   "metadata": {
    "ExecuteTime": {
     "end_time": "2025-08-03T01:50:58.987837Z",
     "start_time": "2025-08-03T01:50:58.819384Z"
    }
   },
   "cell_type": "code",
   "source": "gr.ChatInterface(fn=chat, type=\"messages\").launch()",
   "id": "5be656e37efe9b03",
   "outputs": [
    {
     "name": "stdout",
     "output_type": "stream",
     "text": [
      "* Running on local URL:  http://127.0.0.1:7885\n",
      "* To create a public link, set `share=True` in `launch()`.\n"
     ]
    },
    {
     "data": {
      "text/plain": [
       "<IPython.core.display.HTML object>"
      ],
      "text/html": [
       "<div><iframe src=\"http://127.0.0.1:7885/\" width=\"100%\" height=\"500\" allow=\"autoplay; camera; microphone; clipboard-read; clipboard-write;\" frameborder=\"0\" allowfullscreen></iframe></div>"
      ]
     },
     "metadata": {},
     "output_type": "display_data"
    },
    {
     "data": {
      "text/plain": []
     },
     "execution_count": 7,
     "metadata": {},
     "output_type": "execute_result"
    }
   ],
   "execution_count": 7
  }
 ],
 "metadata": {
  "kernelspec": {
   "display_name": "Python 3",
   "language": "python",
   "name": "python3"
  },
  "language_info": {
   "codemirror_mode": {
    "name": "ipython",
    "version": 2
   },
   "file_extension": ".py",
   "mimetype": "text/x-python",
   "name": "python",
   "nbconvert_exporter": "python",
   "pygments_lexer": "ipython2",
   "version": "2.7.6"
  }
 },
 "nbformat": 4,
 "nbformat_minor": 5
}
